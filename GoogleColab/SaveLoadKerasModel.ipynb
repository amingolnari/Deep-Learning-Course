{
  "nbformat": 4,
  "nbformat_minor": 0,
  "metadata": {
    "colab": {
      "name": "SaveLoadKerasModel.ipynb",
      "version": "0.3.2",
      "provenance": []
    },
    "kernelspec": {
      "name": "python3",
      "display_name": "Python 3"
    },
    "accelerator": "TPU"
  },
  "cells": [
    {
      "metadata": {
        "id": "Kncn349D4RuS",
        "colab_type": "text"
      },
      "cell_type": "markdown",
      "source": [
        "**Save and Load Keras Model (Jason and HDF5)**\n",
        "\n",
        "[![Open In Colab](https://colab.research.google.com/assets/colab-badge.svg)](https://colab.research.google.com/github/amingolnari/Deep-Learning-Course/blob/master/GoogleColab/SaveLoadKerasModel.ipynb)"
      ]
    },
    {
      "metadata": {
        "id": "KHJDOh_lQ-b5",
        "colab_type": "code",
        "colab": {
          "base_uri": "https://localhost:8080/",
          "height": 34
        },
        "outputId": "fb470616-3a94-40b4-cb47-de2a34c1a2cf"
      },
      "cell_type": "code",
      "source": [
        "from keras.models import Sequential\n",
        "from keras.layers import Dense\n",
        "from keras.optimizers import Adam\n",
        "from keras.models import load_model\n",
        "from keras.models import model_from_json"
      ],
      "execution_count": 1,
      "outputs": [
        {
          "output_type": "stream",
          "text": [
            "Using TensorFlow backend.\n"
          ],
          "name": "stderr"
        }
      ]
    },
    {
      "metadata": {
        "id": "LU76pkkVRLYV",
        "colab_type": "code",
        "colab": {
          "base_uri": "https://localhost:8080/",
          "height": 207
        },
        "outputId": "9c57164f-6376-4654-fd6d-efd9064a0298"
      },
      "cell_type": "code",
      "source": [
        "model = Sequential()\n",
        "model.add(Dense(10, input_shape = [10,1], name = 'Layer1'))\n",
        "model.add(Dense(2, name = 'Layer2'))\n",
        "model.compile(loss = 'binary_crossentropy',\n",
        "\t              optimizer = Adam(),\n",
        "\t              metrics = ['accuracy'])\n",
        "model.summary()"
      ],
      "execution_count": 2,
      "outputs": [
        {
          "output_type": "stream",
          "text": [
            "_________________________________________________________________\n",
            "Layer (type)                 Output Shape              Param #   \n",
            "=================================================================\n",
            "Layer1 (Dense)               (None, 10, 10)            20        \n",
            "_________________________________________________________________\n",
            "Layer2 (Dense)               (None, 10, 2)             22        \n",
            "=================================================================\n",
            "Total params: 42\n",
            "Trainable params: 42\n",
            "Non-trainable params: 0\n",
            "_________________________________________________________________\n"
          ],
          "name": "stdout"
        }
      ]
    },
    {
      "metadata": {
        "id": "HN3dVuO23-7O",
        "colab_type": "code",
        "colab": {}
      },
      "cell_type": "code",
      "source": [
        "# Save Model with HDF5 File\n",
        "model.save('HDF5model.h5')"
      ],
      "execution_count": 0,
      "outputs": []
    },
    {
      "metadata": {
        "id": "pJJUt5fA1qU2",
        "colab_type": "code",
        "colab": {
          "base_uri": "https://localhost:8080/",
          "height": 207
        },
        "outputId": "64e6d43e-e6c9-482d-c20b-26eef99c467c"
      },
      "cell_type": "code",
      "source": [
        "# Load Model From HDF5 File\n",
        "model = load_model('HDF5model.h5')\n",
        "model.summary()"
      ],
      "execution_count": 4,
      "outputs": [
        {
          "output_type": "stream",
          "text": [
            "_________________________________________________________________\n",
            "Layer (type)                 Output Shape              Param #   \n",
            "=================================================================\n",
            "Layer1 (Dense)               (None, 10, 10)            20        \n",
            "_________________________________________________________________\n",
            "Layer2 (Dense)               (None, 10, 2)             22        \n",
            "=================================================================\n",
            "Total params: 42\n",
            "Trainable params: 42\n",
            "Non-trainable params: 0\n",
            "_________________________________________________________________\n"
          ],
          "name": "stdout"
        }
      ]
    },
    {
      "metadata": {
        "id": "uxpM8k_c1wdD",
        "colab_type": "code",
        "colab": {}
      },
      "cell_type": "code",
      "source": [
        "# Save Model to Json File\n",
        "model.save_weights('ModelWeights.h5')\n",
        "JsonModel = model.to_json()\n",
        "with open('JsonModel.json', \"w\") as jFile:\n",
        "    jFile.write(JsonModel)\n",
        "jFile.close()"
      ],
      "execution_count": 0,
      "outputs": []
    },
    {
      "metadata": {
        "id": "ddI8bSpq2MLv",
        "colab_type": "code",
        "colab": {
          "base_uri": "https://localhost:8080/",
          "height": 207
        },
        "outputId": "6bfeb415-c88b-4b14-cc2a-65fbf1680c66"
      },
      "cell_type": "code",
      "source": [
        "# Load Model From Jason File\n",
        "jFile = open(\"JsonModel.json\", 'r')\n",
        "JsonModel = jFile.read()\n",
        "jFile.close()\n",
        "model = model_from_json(JsonModel)\n",
        "model.load_weights(\"ModelWeights.h5\")\n",
        "model.summary()"
      ],
      "execution_count": 6,
      "outputs": [
        {
          "output_type": "stream",
          "text": [
            "_________________________________________________________________\n",
            "Layer (type)                 Output Shape              Param #   \n",
            "=================================================================\n",
            "Layer1 (Dense)               (None, 10, 10)            20        \n",
            "_________________________________________________________________\n",
            "Layer2 (Dense)               (None, 10, 2)             22        \n",
            "=================================================================\n",
            "Total params: 42\n",
            "Trainable params: 42\n",
            "Non-trainable params: 0\n",
            "_________________________________________________________________\n"
          ],
          "name": "stdout"
        }
      ]
    },
    {
      "metadata": {
        "id": "6BaiMB564NQ8",
        "colab_type": "text"
      },
      "cell_type": "markdown",
      "source": [
        "**Visualize Keras Model**"
      ]
    },
    {
      "metadata": {
        "id": "OjsPIWfC4IZD",
        "colab_type": "code",
        "colab": {
          "base_uri": "https://localhost:8080/",
          "height": 157
        },
        "outputId": "ccb34d66-9f95-4928-a337-2662ce5c5539"
      },
      "cell_type": "code",
      "source": [
        "# Befor using plot model install pydot\n",
        "# !pip install -q pydot\n",
        "# Install dependencies\n",
        "# !apt install graphviz\n",
        "# !pip install pydot pydot-ng\n",
        "# !python -c\n",
        "from keras.utils import plot_model\n",
        "from IPython.display import Image\n",
        "plot_model(model, to_file = 'model.png', show_shapes = True)\n",
        "Image(retina = True, filename = 'model.png')"
      ],
      "execution_count": 7,
      "outputs": [
        {
          "output_type": "execute_result",
          "data": {
            "image/png": "[encoded data removed]",
            "text/plain": [
              "<IPython.core.display.Image object>"
            ]
          },
          "metadata": {
            "tags": [],
            "image/png": {
              "width": 178,
              "height": 140
            }
          },
          "execution_count": 7
        }
      ]
    }
  ]
}
